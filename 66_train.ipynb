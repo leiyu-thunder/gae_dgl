{
 "cells": [
  {
   "cell_type": "code",
   "execution_count": null,
   "metadata": {},
   "outputs": [],
   "source": [
    "import dgl\n",
    "from dgl import DGLGraph\n",
    "import torch\n",
    "import numpy as np\n",
    "from exp.model import GAE, GAEN\n",
    "from exp.utils import *\n",
    "\n",
    "from torch.nn.functional import binary_cross_entropy, binary_cross_entropy_with_logits\n",
    "from fastprogress.fastprogress import master_bar, progress_bar\n",
    "import warnings\n",
    "warnings.filterwarnings('ignore')"
   ]
  },
  {
   "cell_type": "code",
   "execution_count": null,
   "metadata": {},
   "outputs": [],
   "source": [
    "dataset = 'cora'\n",
    "features = load_data(dataset)\n",
    "features = np.array(features.todense(), dtype=np.float32)\n",
    "g = DGLGraph(load_graph(dataset))\n",
    "g.ndata['h'] = features"
   ]
  },
  {
   "cell_type": "code",
   "execution_count": null,
   "metadata": {},
   "outputs": [],
   "source": [
    "degs = g.out_degrees().float().clamp(min=1)\n",
    "norm = torch.pow(degs, -0.5)\n",
    "shp = norm.shape + (1,) * (features.ndim - 1)\n",
    "norm = torch.reshape(norm, shp)\n",
    "g.ndata['norm'] = norm.unsqueeze(1)"
   ]
  },
  {
   "cell_type": "code",
   "execution_count": null,
   "metadata": {},
   "outputs": [],
   "source": [
    "val_edges, val_edges_false, test_edges, test_edges_false = make_test_val_edges(g)"
   ]
  },
  {
   "cell_type": "code",
   "execution_count": null,
   "metadata": {},
   "outputs": [],
   "source": [
    "in_feats = features.shape[1]"
   ]
  },
  {
   "cell_type": "code",
   "execution_count": null,
   "metadata": {},
   "outputs": [],
   "source": [
    "degs = g.in_degrees().float()\n",
    "norm = torch.pow(degs, -0.5)\n",
    "norm[torch.isinf(norm)] = 0\n",
    "g.ndata['norm'] = norm.unsqueeze(1)\n",
    "adj = g.adjacency_matrix().to_dense()\n",
    "pos_weight = torch.Tensor([float(adj.shape[0] * adj.shape[0] - adj.sum()) / adj.sum()])\n",
    "\n",
    "adj_label = adj.view(-1)\n",
    "weight_mask = adj_label == 1\n",
    "weight_tensor = torch.ones(weight_mask.size(0)) \n",
    "weight_tensor[weight_mask] = pos_weight"
   ]
  },
  {
   "cell_type": "code",
   "execution_count": null,
   "metadata": {},
   "outputs": [],
   "source": [
    "model = GAEN(in_feats, [32,16], dropout=0.)"
   ]
  },
  {
   "cell_type": "code",
   "execution_count": null,
   "metadata": {},
   "outputs": [],
   "source": [
    "model = GAE(in_feats, [32,16], dropout=0.)"
   ]
  },
  {
   "cell_type": "code",
   "execution_count": null,
   "metadata": {},
   "outputs": [],
   "source": [
    "device = torch.device('cuda: 1')\n",
    "model = model.to(device)\n",
    "g = g.to(device)\n",
    "adj = adj.to(device)\n",
    "weight_tensor = weight_tensor.to(device)"
   ]
  },
  {
   "cell_type": "code",
   "execution_count": null,
   "metadata": {},
   "outputs": [],
   "source": [
    "loss_function=binary_cross_entropy\n",
    "losses = []\n",
    "model.train()\n",
    "optim = torch.optim.Adam(model.parameters(), lr=1e-2)\n",
    "for e in progress_bar(range(200)):\n",
    "    adj_logits = model(g)\n",
    "    optim.zero_grad()\n",
    "    \n",
    "    loss = loss_function(adj_logits.view(-1), adj.view(-1), weight=weight_tensor)\n",
    "    loss.backward()\n",
    "    optim.step()\n",
    "    val_roc, val_ap = get_scores(val_edges, val_edges_false, adj_logits)\n",
    "    losses.append(loss.item())\n",
    "    print((f'Epoch:{e:2d} loss: {loss.item():.5f} | acc: {get_acc(adj_logits, adj):.5f} | '\n",
    "           f'val_roc: {val_roc} | val_ap: {val_ap}'))"
   ]
  },
  {
   "cell_type": "code",
   "execution_count": null,
   "metadata": {},
   "outputs": [],
   "source": [
    "get_scores(test_edges, test_edges_false, adj_logits)"
   ]
  },
  {
   "cell_type": "code",
   "execution_count": null,
   "metadata": {},
   "outputs": [],
   "source": [
    "import matplotlib.pyplot as plt\n",
    "%matplotlib inline"
   ]
  },
  {
   "cell_type": "code",
   "execution_count": null,
   "metadata": {},
   "outputs": [],
   "source": [
    "plt.plot(losses)"
   ]
  },
  {
   "cell_type": "code",
   "execution_count": null,
   "metadata": {},
   "outputs": [],
   "source": []
  }
 ],
 "metadata": {
  "kernelspec": {
   "display_name": "Python 3",
   "language": "python",
   "name": "python3"
  }
 },
 "nbformat": 4,
 "nbformat_minor": 2
}
