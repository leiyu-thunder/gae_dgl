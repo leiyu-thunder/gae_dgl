{
 "cells": [
  {
   "cell_type": "code",
   "execution_count": 1,
   "metadata": {},
   "outputs": [],
   "source": [
    "# default_exp model"
   ]
  },
  {
   "cell_type": "markdown",
   "metadata": {},
   "source": [
    "# DGL Model"
   ]
  },
  {
   "cell_type": "code",
   "execution_count": 1,
   "metadata": {},
   "outputs": [],
   "source": [
    "#hide\n",
    "from nbdev.showdoc import *"
   ]
  },
  {
   "cell_type": "code",
   "execution_count": 2,
   "metadata": {},
   "outputs": [
    {
     "name": "stderr",
     "output_type": "stream",
     "text": [
      "Using backend: pytorch\n"
     ]
    }
   ],
   "source": [
    "#export\n",
    "import dgl.function as fn\n",
    "from dgl.nn.pytorch import GraphConv\n",
    "import torch\n",
    "import torch.nn as nn\n",
    "import torch.nn.functional as F"
   ]
  },
  {
   "cell_type": "code",
   "execution_count": 4,
   "metadata": {},
   "outputs": [],
   "source": [
    "#export\n",
    "gcn_msg = fn.copy_src(src='h', out='m')\n",
    "gcn_reduce = fn.sum(msg='m', out='h')  # sum aggregation"
   ]
  },
  {
   "cell_type": "code",
   "execution_count": 5,
   "metadata": {},
   "outputs": [],
   "source": [
    "#export\n",
    "class GCN(nn.Module):\n",
    "    def __init__(self, in_feats, out_feats, activation):\n",
    "        super().__init__()\n",
    "        self.linear = nn.Linear(in_feats, out_feats)\n",
    "        self.activation = activation\n",
    "        torch.nn.init.xavier_uniform_(self.linear.weight)\n",
    "     \n",
    "    def forward(self, g, feature):\n",
    "        with g.local_scope():\n",
    "            degs = g.out_degrees().to(feature.device).float().clamp(min=1)\n",
    "            norm = torch.pow(degs, -0.5)\n",
    "            shp = norm.shape + (1,) * (feature.dim() - 1)\n",
    "            norm = torch.reshape(norm, shp)\n",
    "            feature = feature * norm\n",
    "            \n",
    "            g.ndata['h'] = feature\n",
    "            g.update_all(gcn_msg, gcn_reduce)\n",
    "            h = g.ndata['h']\n",
    "            h = self.linear(h)\n",
    "            \n",
    "            degs = g.in_degrees().to(feature.device).float().clamp(min=1)\n",
    "            norm = torch.pow(degs, -0.5)\n",
    "            shp = norm.shape + (1,) * (feature.dim() - 1)\n",
    "            norm = torch.reshape(norm, shp)\n",
    "            h = h * norm\n",
    "            return self.activation(h)"
   ]
  },
  {
   "cell_type": "code",
   "execution_count": 8,
   "metadata": {},
   "outputs": [],
   "source": [
    "#export\n",
    "class InnerProductDecoder(nn.Module):\n",
    "    def __init__(self, activation=torch.sigmoid, dropout=0.1):\n",
    "        super().__init__()\n",
    "        self.dropout = dropout\n",
    "        self.activation = activation\n",
    "\n",
    "    def forward(self, z):\n",
    "        z = F.dropout(z, self.dropout)\n",
    "        adj = self.activation(torch.matmul(z, z.t()))\n",
    "        return adj"
   ]
  },
  {
   "cell_type": "code",
   "execution_count": 9,
   "metadata": {},
   "outputs": [],
   "source": [
    "#export\n",
    "class GAEN(nn.Module):\n",
    "    def __init__(self, in_dim, hidden_dims, dropout=0.1, decode_activation=torch.sigmoid):\n",
    "        super().__init__()\n",
    "        if len(hidden_dims)>=2:\n",
    "            layers = [GCN(in_dim, hidden_dims[0], F.relu)]\n",
    "            for i in range(1,len(hidden_dims)):\n",
    "                if i != len(hidden_dims)-1:\n",
    "                    layers.append(GCN(hidden_dims[i-1], hidden_dims[i], F.relu))\n",
    "                else:\n",
    "                    layers.append(GCN(hidden_dims[i-1], hidden_dims[i], lambda x:x))\n",
    "        else:\n",
    "            layers = [GCN(in_dim, hidden_dims[0], lambda x:x)]\n",
    "        self.layers = nn.ModuleList(layers)\n",
    "        self.decoder = InnerProductDecoder(activation=decode_activation, dropout=dropout)\n",
    "    \n",
    "    def forward(self, g):\n",
    "        h = self.encode(g)\n",
    "        adj_rec = self.decoder(h)\n",
    "        return adj_rec\n",
    "\n",
    "    def encode(self, g):\n",
    "        h = g.ndata['h']\n",
    "        for conv in self.layers:\n",
    "            h = conv(g, h)\n",
    "        return h"
   ]
  },
  {
   "cell_type": "code",
   "execution_count": null,
   "metadata": {},
   "outputs": [],
   "source": [
    "#export\n",
    "class GAE(nn.Module):\n",
    "    def __init__(self, in_dim, hidden_dims, dropout=0.1, decode_activation=torch.sigmoid):\n",
    "        super().__init__()\n",
    "        if len(hidden_dims)>=2:\n",
    "            layers = [GraphConv(in_dim, hidden_dims[0], activation=F.relu)]\n",
    "            for i in range(1,len(hidden_dims)):\n",
    "                if i != len(hidden_dims)-1:\n",
    "                    layers.append(GraphConv(hidden_dims[i-1], hidden_dims[i], activation=F.relu))\n",
    "                else:\n",
    "                    layers.append(GraphConv(hidden_dims[i-1], hidden_dims[i], activation=lambda x: x))\n",
    "        else:\n",
    "            layers = [GraphConv(in_dim, hidden_dims[0], activation=lambda x: x)]\n",
    "        self.layers = nn.ModuleList(layers)\n",
    "        self.decoder = InnerProductDecoder(activation=decode_activation, dropout=dropout)\n",
    "    \n",
    "    def forward(self, g):\n",
    "        h = self.encode(g)\n",
    "        adj_rec = self.decoder(h)\n",
    "        return adj_rec\n",
    "\n",
    "    def encode(self, g):\n",
    "        with g.local_scope():\n",
    "            h = g.ndata['h']\n",
    "            for conv in self.layers:\n",
    "                h = conv(g, h)\n",
    "            return h"
   ]
  }
 ],
 "metadata": {
  "kernelspec": {
   "display_name": "Python 3",
   "language": "python",
   "name": "python3"
  },
  "language_info": {
   "codemirror_mode": {
    "name": "ipython",
    "version": 3
   },
   "file_extension": ".py",
   "mimetype": "text/x-python",
   "name": "python",
   "nbconvert_exporter": "python",
   "pygments_lexer": "ipython3",
   "version": "3.6.2"
  },
  "toc": {
   "base_numbering": 1,
   "nav_menu": {},
   "number_sections": true,
   "sideBar": true,
   "skip_h1_title": false,
   "title_cell": "Table of Contents",
   "title_sidebar": "Contents",
   "toc_cell": false,
   "toc_position": {},
   "toc_section_display": true,
   "toc_window_display": false
  },
  "varInspector": {
   "cols": {
    "lenName": 16,
    "lenType": 16,
    "lenVar": 40
   },
   "kernels_config": {
    "python": {
     "delete_cmd_postfix": "",
     "delete_cmd_prefix": "del ",
     "library": "var_list.py",
     "varRefreshCmd": "print(var_dic_list())"
    },
    "r": {
     "delete_cmd_postfix": ") ",
     "delete_cmd_prefix": "rm(",
     "library": "var_list.r",
     "varRefreshCmd": "cat(var_dic_list()) "
    }
   },
   "types_to_exclude": [
    "module",
    "function",
    "builtin_function_or_method",
    "instance",
    "_Feature"
   ],
   "window_display": false
  }
 },
 "nbformat": 4,
 "nbformat_minor": 2
}
